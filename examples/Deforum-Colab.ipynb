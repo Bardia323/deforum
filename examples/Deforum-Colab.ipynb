{
  "nbformat": 4,
  "nbformat_minor": 0,
  "metadata": {
    "colab": {
      "provenance": [],
      "collapsed_sections": [
        "Svttk4xovK1n"
      ],
      "gpuType": "T4"
    },
    "kernelspec": {
      "name": "python3",
      "display_name": "Python 3"
    },
    "language_info": {
      "name": "python"
    },
    "accelerator": "GPU"
  },
  "cells": [
    {
      "cell_type": "markdown",
      "source": [
        "# **Deforum**\n",
        "Diffusion Animation Toolkit\n",
        "https://github.com/deforum-art/deforum"
      ],
      "metadata": {
        "id": "uVsB0qLMu91T"
      }
    },
    {
      "cell_type": "markdown",
      "source": [
        "## **Install**"
      ],
      "metadata": {
        "id": "Svttk4xovK1n"
      }
    },
    {
      "cell_type": "code",
      "execution_count": null,
      "metadata": {
        "id": "6KC7kiYpuwM4"
      },
      "outputs": [],
      "source": [
        "!pip install deforum==0.1.5"
      ]
    },
    {
      "cell_type": "markdown",
      "source": [
        "## **Run**"
      ],
      "metadata": {
        "id": "cci5KRmPvX-0"
      }
    },
    {
      "cell_type": "code",
      "source": [
        "from deforum import Deforum\n",
        "\n",
        "# Create an instance of the Deforum class\n",
        "dd = Deforum()\n",
        "\n",
        "# Use dd instance to call animate_simple function with the values prompt, max_frames, and strength\n",
        "dd.animate_simple(\n",
        "    prompt=\"Cat Sushi\",\n",
        "    max_frames=80,\n",
        "    strength=0.5\n",
        ")"
      ],
      "metadata": {
        "id": "r-JqZZxZvOyM"
      },
      "execution_count": null,
      "outputs": []
    }
  ]
}